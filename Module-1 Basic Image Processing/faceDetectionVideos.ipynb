{
 "cells": [
  {
   "cell_type": "code",
   "execution_count": 1,
   "metadata": {},
   "outputs": [],
   "source": [
    "import numpy as np\n",
    "import cv2 as cv"
   ]
  },
  {
   "cell_type": "markdown",
   "metadata": {},
   "source": [
    "### Reading/Analyzing/ Displaying the video (original)"
   ]
  },
  {
   "cell_type": "code",
   "execution_count": 5,
   "metadata": {},
   "outputs": [],
   "source": [
    "cap = cv.VideoCapture(\"video300.mp4\")\n",
    "\n",
    "while True:\n",
    "    # frames per second\n",
    "    ret, frame = cap.read()\n",
    "    if ret == False:\n",
    "        break\n",
    "                \n",
    "    cv.imshow(\"object_detection\", frame)\n",
    "    if cv.waitKey(40) == 27:\n",
    "        break\n",
    "cv.destroyAllWindows()\n",
    "cap.release()"
   ]
  },
  {
   "cell_type": "markdown",
   "metadata": {},
   "source": [
    "### Reading/Analyzing/ Displaying video in (gray_scale mode)"
   ]
  },
  {
   "cell_type": "code",
   "execution_count": 6,
   "metadata": {},
   "outputs": [],
   "source": [
    "cap = cv.VideoCapture(\"video300.mp4\")\n",
    "\n",
    "while True:\n",
    "    # frames per second\n",
    "    ret, frame = cap.read()\n",
    "    if ret == False:\n",
    "        break\n",
    "    \n",
    "    gray = cv.cvtColor(frame, cv.COLOR_BGR2GRAY)\n",
    "    cv.imshow(\"object_detection\", frame)\n",
    "    cv.imshow(\"gray_scale_mode\", gray)\n",
    "    if cv.waitKey(40) == 27:\n",
    "        break\n",
    "cv.destroyAllWindows()\n",
    "cap.release()"
   ]
  },
  {
   "cell_type": "markdown",
   "metadata": {},
   "source": [
    "### Detecting faces in videos using Cascade Classifier"
   ]
  },
  {
   "cell_type": "code",
   "execution_count": 2,
   "metadata": {},
   "outputs": [],
   "source": [
    "haar = cv.CascadeClassifier(\"haarcascade_frontalface_default.xml\")"
   ]
  },
  {
   "cell_type": "code",
   "execution_count": 3,
   "metadata": {},
   "outputs": [],
   "source": [
    "def faceDetection(img):\n",
    "    gray = cv.cvtColor(img, cv.COLOR_BGR2GRAY)\n",
    "    faces = haar.detectMultiScale(gray, 1.3, 5) # (gray, scale_size, min neighbours)\n",
    "    \n",
    "    for x, y, w, h in faces:  # (x, y) --> diagonal points of each frame/image\n",
    "        cv.rectangle(img, (x, y), (x+w, y+h), (0, 255, 0), 3)   # 3 --> width of face detecting green rectangle\n",
    "        \n",
    "    return img"
   ]
  },
  {
   "cell_type": "code",
   "execution_count": null,
   "metadata": {},
   "outputs": [],
   "source": [
    "# load and read the captured video\n",
    "cap = cv.VideoCapture(\"video300.mp4\")\n",
    "\n",
    "while True:\n",
    "    # frames per second\n",
    "    ret, frame = cap.read()\n",
    "    if ret == False:\n",
    "        break\n",
    "        \n",
    "    frame = faceDetection(frame)        \n",
    "    cv.imshow(\"object_detection\", frame)\n",
    "    # since it will take a lil bit of time for computations reduce the frames display / sec\n",
    "    if cv.waitKey(20) == 27:   # 10 20 40 80 all are working quite fine\n",
    "        break\n",
    "cv.destroyAllWindows()\n",
    "cap.release()"
   ]
  },
  {
   "cell_type": "code",
   "execution_count": null,
   "metadata": {},
   "outputs": [],
   "source": []
  }
 ],
 "metadata": {
  "kernelspec": {
   "display_name": "Python 3",
   "language": "python",
   "name": "python3"
  },
  "language_info": {
   "codemirror_mode": {
    "name": "ipython",
    "version": 3
   },
   "file_extension": ".py",
   "mimetype": "text/x-python",
   "name": "python",
   "nbconvert_exporter": "python",
   "pygments_lexer": "ipython3",
   "version": "3.8.5"
  }
 },
 "nbformat": 4,
 "nbformat_minor": 4
}
